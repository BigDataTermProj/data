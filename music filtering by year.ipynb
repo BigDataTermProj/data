{
 "cells": [
  {
   "cell_type": "code",
   "execution_count": 4,
   "metadata": {},
   "outputs": [
    {
     "name": "stdout",
     "output_type": "stream",
     "text": [
      "(28372, 31)\n"
     ]
    }
   ],
   "source": [
    "import pandas as pd\n",
    "\n",
    "df = pd.read_csv('/Users/imseonho/Downloads/tcc_ceds_music 3.csv')\n",
    "df.head()\n",
    "print(df.shape)"
   ]
  },
  {
   "cell_type": "code",
   "execution_count": 6,
   "metadata": {},
   "outputs": [
    {
     "name": "stdout",
     "output_type": "stream",
     "text": [
      "       Unnamed: 0           artist_name                     track_name  \\\n",
      "0               0                mukesh           mohabbat bhi jhoothi   \n",
      "1               4         frankie laine                      i believe   \n",
      "2               6           johnnie ray                            cry   \n",
      "3              10           pérez prado                       patricia   \n",
      "4              12  giorgos papadopoulos             apopse eida oneiro   \n",
      "...           ...                   ...                            ...   \n",
      "28367       82447               mack 10                10 million ways   \n",
      "28368       82448                m.o.p.  ante up (robbin hoodz theory)   \n",
      "28369       82449                  nine                  whutcha want?   \n",
      "28370       82450            will smith                         switch   \n",
      "28371       82451                 jeezy                         r.i.p.   \n",
      "\n",
      "       release_date    genre  \\\n",
      "0              1950      pop   \n",
      "1              1950      pop   \n",
      "2              1950      pop   \n",
      "3              1950      pop   \n",
      "4              1950      pop   \n",
      "...             ...      ...   \n",
      "28367          2019  hip hop   \n",
      "28368          2019  hip hop   \n",
      "28369          2019  hip hop   \n",
      "28370          2019  hip hop   \n",
      "28371          2019  hip hop   \n",
      "\n",
      "                                                  lyrics  len    dating  \\\n",
      "0      hold time feel break feel untrue convince spea...   95  0.000598   \n",
      "1      believe drop rain fall grow believe darkest ni...   51  0.035537   \n",
      "2      sweetheart send letter goodbye secret feel bet...   24  0.002770   \n",
      "3      kiss lips want stroll charm mambo chacha merin...   54  0.048249   \n",
      "4      till darling till matter know till dream live ...   48  0.001350   \n",
      "...                                                  ...  ...       ...   \n",
      "28367  cause fuck leave scar tick tock clock come kno...   78  0.001350   \n",
      "28368  minks things chain ring braclets yap fame come...   67  0.001284   \n",
      "28369  get ban get ban stick crack relax plan attack ...   77  0.001504   \n",
      "28370  check check yeah yeah hear thing call switch g...   67  0.001196   \n",
      "28371  remix killer alive remix thriller trap bitch s...   83  0.001012   \n",
      "\n",
      "       violence  world/life  ...   sadness  feelings  danceability  loudness  \\\n",
      "0      0.063746    0.000598  ...  0.380299  0.117175      0.357739  0.454119   \n",
      "1      0.096777    0.443435  ...  0.001284  0.001284      0.331745  0.647540   \n",
      "2      0.002770    0.002770  ...  0.002770  0.225422      0.456298  0.585288   \n",
      "3      0.001548    0.001548  ...  0.225889  0.001548      0.686992  0.744404   \n",
      "4      0.001350    0.417772  ...  0.068800  0.001350      0.291671  0.646489   \n",
      "...         ...         ...  ...       ...       ...           ...       ...   \n",
      "28367  0.001350    0.001350  ...  0.065664  0.001350      0.889527  0.759711   \n",
      "28368  0.001284    0.035338  ...  0.001284  0.001284      0.662082  0.789580   \n",
      "28369  0.154302    0.168988  ...  0.001504  0.001504      0.663165  0.726970   \n",
      "28370  0.001196    0.001196  ...  0.001196  0.001196      0.883028  0.786888   \n",
      "28371  0.075202    0.001012  ...  0.001012  0.033995      0.828875  0.674794   \n",
      "\n",
      "       acousticness  instrumentalness   valence    energy       topic  \\\n",
      "0          0.997992          0.901822  0.339448  0.137110     sadness   \n",
      "1          0.954819          0.000002  0.325021  0.263240  world/life   \n",
      "2          0.840361          0.000000  0.351814  0.139112       music   \n",
      "3          0.083935          0.199393  0.775350  0.743736    romantic   \n",
      "4          0.975904          0.000246  0.597073  0.394375    romantic   \n",
      "...             ...               ...       ...       ...         ...   \n",
      "28367      0.062549          0.000000  0.751649  0.695686     obscene   \n",
      "28368      0.004607          0.000002  0.922712  0.797791     obscene   \n",
      "28369      0.104417          0.000001  0.838211  0.767761     obscene   \n",
      "28370      0.007027          0.000503  0.508450  0.885882     obscene   \n",
      "28371      0.015862          0.000000  0.475474  0.492477     obscene   \n",
      "\n",
      "            age  \n",
      "0      1.000000  \n",
      "1      1.000000  \n",
      "2      1.000000  \n",
      "3      1.000000  \n",
      "4      1.000000  \n",
      "...         ...  \n",
      "28367  0.014286  \n",
      "28368  0.014286  \n",
      "28369  0.014286  \n",
      "28370  0.014286  \n",
      "28371  0.014286  \n",
      "\n",
      "[28372 rows x 31 columns]\n"
     ]
    }
   ],
   "source": [
    "print(df)"
   ]
  },
  {
   "cell_type": "code",
   "execution_count": 8,
   "metadata": {},
   "outputs": [],
   "source": [
    "condition = (df.release_date == 1985)\n",
    "df.loc[condition]\n",
    "df.loc[condition].to_csv('MUSIC1985.csv')"
   ]
  },
  {
   "cell_type": "code",
   "execution_count": 9,
   "metadata": {},
   "outputs": [],
   "source": [
    "condition = (df.release_date == 1995)\n",
    "df.loc[condition]\n",
    "df.loc[condition].to_csv('MUSIC1995.csv')"
   ]
  },
  {
   "cell_type": "code",
   "execution_count": 10,
   "metadata": {},
   "outputs": [],
   "source": [
    "condition = (df.release_date == 2005)\n",
    "df.loc[condition]\n",
    "df.loc[condition].to_csv('MUSIC2005.csv')"
   ]
  },
  {
   "cell_type": "code",
   "execution_count": 11,
   "metadata": {},
   "outputs": [],
   "source": [
    "condition = (df.release_date == 2015)\n",
    "df.loc[condition]\n",
    "df.loc[condition].to_csv('MUSIC2015.csv')"
   ]
  },
  {
   "cell_type": "code",
   "execution_count": null,
   "metadata": {},
   "outputs": [],
   "source": []
  }
 ],
 "metadata": {
  "kernelspec": {
   "display_name": "Python 3",
   "language": "python",
   "name": "python3"
  },
  "language_info": {
   "codemirror_mode": {
    "name": "ipython",
    "version": 3
   },
   "file_extension": ".py",
   "mimetype": "text/x-python",
   "name": "python",
   "nbconvert_exporter": "python",
   "pygments_lexer": "ipython3",
   "version": "3.8.5"
  }
 },
 "nbformat": 4,
 "nbformat_minor": 4
}
