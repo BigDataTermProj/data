{
 "cells": [
  {
   "cell_type": "code",
   "execution_count": 19,
   "metadata": {},
   "outputs": [
    {
     "name": "stdout",
     "output_type": "stream",
     "text": [
      "(372, 13)\n"
     ]
    }
   ],
   "source": [
    "import pandas as pd\n",
    "import numpy as np\n",
    "\n",
    "df = pd.read_csv('/Users/imseonho/bigdatatermproject/United States Suicide Data.csv')\n",
    "df.head()\n",
    "print(df.shape)\n",
    "#print(csv_test)"
   ]
  },
  {
   "cell_type": "code",
   "execution_count": 20,
   "metadata": {},
   "outputs": [
    {
     "name": "stdout",
     "output_type": "stream",
     "text": [
      "     Unnamed: 0        country  year     sex          age  suicides_no  \\\n",
      "0         26848  United States  1985    male    75+ years         2177   \n",
      "1         26849  United States  1985    male  55-74 years         5302   \n",
      "2         26850  United States  1985    male  25-34 years         5134   \n",
      "3         26851  United States  1985    male  35-54 years         6053   \n",
      "4         26852  United States  1985    male  15-24 years         4267   \n",
      "..          ...            ...   ...     ...          ...          ...   \n",
      "367       27215  United States  2015  female  25-34 years         1444   \n",
      "368       27216  United States  2015  female  15-24 years         1132   \n",
      "369       27217  United States  2015  female    75+ years          540   \n",
      "370       27218  United States  2015    male   5-14 years          255   \n",
      "371       27219  United States  2015  female   5-14 years          158   \n",
      "\n",
      "     population  suicides/100k pop       country-year  HDI for year  \\\n",
      "0       4064000              53.57  United States1985         0.841   \n",
      "1      17971000              29.50  United States1985         0.841   \n",
      "2      20986000              24.46  United States1985         0.841   \n",
      "3      26589000              22.77  United States1985         0.841   \n",
      "4      19962000              21.38  United States1985         0.841   \n",
      "..          ...                ...                ...           ...   \n",
      "367    21555712               6.70  United States2015           NaN   \n",
      "368    21633813               5.23  United States2015           NaN   \n",
      "369    11778666               4.58  United States2015           NaN   \n",
      "370    21273987               1.20  United States2015           NaN   \n",
      "371    20342901               0.78  United States2015           NaN   \n",
      "\n",
      "      gdp_for_year ($)   gdp_per_capita ($)       generation  \n",
      "0     4,346,734,000,000               19693  G.I. Generation  \n",
      "1     4,346,734,000,000               19693  G.I. Generation  \n",
      "2     4,346,734,000,000               19693          Boomers  \n",
      "3     4,346,734,000,000               19693           Silent  \n",
      "4     4,346,734,000,000               19693     Generation X  \n",
      "..                  ...                 ...              ...  \n",
      "367  18,120,714,000,000               60387       Millenials  \n",
      "368  18,120,714,000,000               60387       Millenials  \n",
      "369  18,120,714,000,000               60387           Silent  \n",
      "370  18,120,714,000,000               60387     Generation Z  \n",
      "371  18,120,714,000,000               60387     Generation Z  \n",
      "\n",
      "[372 rows x 13 columns]\n"
     ]
    }
   ],
   "source": [
    "print(df)\n",
    "#DataFrame"
   ]
  },
  {
   "cell_type": "code",
   "execution_count": 36,
   "metadata": {},
   "outputs": [
    {
     "name": "stdout",
     "output_type": "stream",
     "text": [
      "   year  suicide_no  population\n",
      "0  1985       29446   220723000\n"
     ]
    }
   ],
   "source": [
    "condition = (df['country-year'] == 'United States' + '1985')\n",
    "suicides_no = df.loc[condition]['suicides_no'].sum()\n",
    "population = df.loc[condition]['population'].sum()\n",
    "\n",
    "f = pd.DataFrame(data=np.array([(1985, suicides_no, population)]), columns=['year', 'suicide_no', 'population'])\n",
    "print(f)\n",
    "index=1\n",
    "for i in range(1986, 2016):\n",
    "    condition = (df['country-year'] == 'United States' + str(i))\n",
    "    suicides_no = df.loc[condition]['suicides_no'].sum()\n",
    "    population = df.loc[condition]['population'].sum()\n",
    "    f.loc[index] = [i] + [suicides_no] + [population]\n",
    "    index = index + 1\n",
    "    #a = pd.DataFrame(data=np.array([(i, suicides_no, population)]), columns=['year', 'suicide_no', 'population'])\n",
    "    #f.append(a)\n",
    "    #f = f.reset_index(drop=True)\n",
    "    #display(a)"
   ]
  },
  {
   "cell_type": "code",
   "execution_count": null,
   "metadata": {},
   "outputs": [],
   "source": [
    "\n",
    "    "
   ]
  },
  {
   "cell_type": "code",
   "execution_count": 37,
   "metadata": {},
   "outputs": [
    {
     "name": "stdout",
     "output_type": "stream",
     "text": [
      "    year  suicide_no  population\n",
      "0   1985       29446   220723000\n",
      "1   1986       30892   222953000\n",
      "2   1987       30783   225148000\n",
      "3   1988       30388   227353000\n",
      "4   1989       30218   229487000\n",
      "5   1990       30895   229952200\n",
      "6   1991       30790   232955000\n",
      "7   1992       30471   235565600\n",
      "8   1993       31084   238092300\n",
      "9   1994       31123   240614100\n",
      "10  1995       31272   243164200\n",
      "11  1996       30879   245997800\n",
      "12  1997       30517   248486400\n",
      "13  1998       30558   251332500\n",
      "14  1999       29183   253748671\n",
      "15  2000       29343   262246108\n",
      "16  2001       30607   265427546\n",
      "17  2002       31645   268759559\n",
      "18  2003       31477   271041510\n",
      "19  2004       32428   273584136\n",
      "20  2005       32629   276106680\n",
      "21  2006       33292   278980848\n",
      "22  2007       34596   280658606\n",
      "23  2008       36030   282355565\n",
      "24  2009       36900   285162662\n",
      "25  2010       38362   287839149\n",
      "26  2011       39508   290313825\n",
      "27  2012       40596   292827128\n",
      "28  2013       41143   295322862\n",
      "29  2014       42769   297749735\n",
      "30  2015       44189   300078511\n"
     ]
    }
   ],
   "source": [
    "print(f)"
   ]
  },
  {
   "cell_type": "code",
   "execution_count": 45,
   "metadata": {},
   "outputs": [],
   "source": [
    "f.to_csv('Preprocessed United States Suicide Data.csv')"
   ]
  },
  {
   "cell_type": "code",
   "execution_count": 44,
   "metadata": {},
   "outputs": [
    {
     "data": {
      "image/png": "[encoded data removed]",
      "text/plain": [
       "<Figure size 432x288 with 1 Axes>"
      ]
     },
     "metadata": {
      "needs_background": "light"
     },
     "output_type": "display_data"
    }
   ],
   "source": [
    "import matplotlib.pyplot as plt\n",
    "\n",
    "# gca stands for 'get current axis'\n",
    "ax = plt.gca()\n",
    "\n",
    "df.plot(kind='line',x='year',y='population',ax=ax)\n",
    "df.plot(kind='line',x='year',y='suicides_no', color='red', ax=ax)\n",
    "\n",
    "plt.show()"
   ]
  },
  {
   "cell_type": "code",
   "execution_count": null,
   "metadata": {},
   "outputs": [],
   "source": []
  }
 ],
 "metadata": {
  "kernelspec": {
   "display_name": "Python 3",
   "language": "python",
   "name": "python3"
  },
  "language_info": {
   "codemirror_mode": {
    "name": "ipython",
    "version": 3
   },
   "file_extension": ".py",
   "mimetype": "text/x-python",
   "name": "python",
   "nbconvert_exporter": "python",
   "pygments_lexer": "ipython3",
   "version": "3.8.5"
  }
 },
 "nbformat": 4,
 "nbformat_minor": 4
}
